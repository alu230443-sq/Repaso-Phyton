{
  "nbformat": 4,
  "nbformat_minor": 0,
  "metadata": {
    "colab": {
      "provenance": [],
      "authorship_tag": "ABX9TyPBbB85L1USWYjS8cKIHB8v",
      "include_colab_link": true
    },
    "kernelspec": {
      "name": "python3",
      "display_name": "Python 3"
    },
    "language_info": {
      "name": "python"
    }
  },
  "cells": [
    {
      "cell_type": "markdown",
      "metadata": {
        "id": "view-in-github",
        "colab_type": "text"
      },
      "source": [
        "<a href=\"https://colab.research.google.com/github/alu230443-sq/Repaso-Phyton/blob/main/MarioCS.ipynb\" target=\"_parent\"><img src=\"https://colab.research.google.com/assets/colab-badge.svg\" alt=\"Open In Colab\"/></a>"
      ]
    },
    {
      "cell_type": "code",
      "execution_count": null,
      "metadata": {
        "id": "jqjbNfu1z6nQ"
      },
      "outputs": [],
      "source": []
    },
    {
      "cell_type": "markdown",
      "source": [
        "Programa 1 en Phyton para imprimir mi nombre con hola mundo"
      ],
      "metadata": {
        "id": "UBFFeFWj0Lc4"
      }
    },
    {
      "cell_type": "code",
      "source": [
        "print (\"Hola Mundo\")\n",
        "nombre=(input(\"Captura tu nombre: \"))\n",
        "print (nombre)"
      ],
      "metadata": {
        "colab": {
          "base_uri": "https://localhost:8080/"
        },
        "id": "sZq2VVGn0VDo",
        "outputId": "47aa616f-ca58-4d9a-a708-4ca51dbd78e5"
      },
      "execution_count": 1,
      "outputs": [
        {
          "output_type": "stream",
          "name": "stdout",
          "text": [
            "Hola Mundo\n",
            "Captura tu nombre: Mario\n",
            "Mario\n"
          ]
        }
      ]
    },
    {
      "cell_type": "markdown",
      "source": [
        "Programa 2 capturar tu nombre paterno y materno e imprimirlo en pantalla"
      ],
      "metadata": {
        "id": "SC7QdKRZ1Z8N"
      }
    },
    {
      "cell_type": "code",
      "source": [
        "n=(input(\"Introduce tu nombre : \"))\n",
        "apep=(input(\"Introduce tu apellido paterno: \"))\n",
        "apem=(input(\"Introduce tu apellido materno\"))\n",
        "print(n+\" \"+apep+\" \"+apem)"
      ],
      "metadata": {
        "colab": {
          "base_uri": "https://localhost:8080/"
        },
        "id": "Esa-KTYS1jKU",
        "outputId": "f0fc1b03-180f-4498-8f3c-b39dde7f84e8"
      },
      "execution_count": 2,
      "outputs": [
        {
          "output_type": "stream",
          "name": "stdout",
          "text": [
            "Introduce tu nombre : Mario\n",
            "Introduce tu apellido paterno: Campoya\n",
            "Introduce tu apellido maternoSilva\n",
            "Mario Campoya Silva\n"
          ]
        }
      ]
    }
  ]
}