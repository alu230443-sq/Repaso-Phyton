{
  "nbformat": 4,
  "nbformat_minor": 0,
  "metadata": {
    "colab": {
      "provenance": [],
      "authorship_tag": "ABX9TyPIYZmdTt5ozGMHZHw7ULNI",
      "include_colab_link": true
    },
    "kernelspec": {
      "name": "python3",
      "display_name": "Python 3"
    },
    "language_info": {
      "name": "python"
    }
  },
  "cells": [
    {
      "cell_type": "markdown",
      "metadata": {
        "id": "view-in-github",
        "colab_type": "text"
      },
      "source": [
        "<a href=\"https://colab.research.google.com/github/alu230443-sq/Repaso-Phyton/blob/main/3EjerciciosPython.ipynb\" target=\"_parent\"><img src=\"https://colab.research.google.com/assets/colab-badge.svg\" alt=\"Open In Colab\"/></a>"
      ]
    },
    {
      "cell_type": "code",
      "execution_count": null,
      "metadata": {
        "id": "6JT6IVK_5TRB"
      },
      "outputs": [],
      "source": [
        "Ejercicios a desarrollar en Colab con Git Hub\n",
        "\n",
        "1.- Realizar un programa en phyton que te permita capturar 2 numeros enteros\n",
        "e imprima la suma, la resta, la multiplicacion y la division de ambos.\n",
        "\n",
        "2.- Realizar un programa en python mediante el cual calcules al total de\n",
        "caracteres que tiene un nombre capturando desde el teclado.\n",
        "\n",
        "3.- Realizar un programa en python que permita los 7 dias de la semana"
      ]
    },
    {
      "cell_type": "code",
      "source": [
        "n1=int(input(\"ingrese el primer numero:\"))\n",
        "n2=int(input(\"ingrese el segundo numero:\"))\n",
        "ts=n1+n2\n",
        "tr=n1-n2\n",
        "tm=n1*n2\n",
        "td=n1/n2\n",
        "print(\"la suma es:\",ts)\n",
        "print(\"la resta es:\",tr)\n",
        "print(\"la multiplicacion es:\",tm)\n",
        "print(\"la division es:\",td)"
      ],
      "metadata": {
        "colab": {
          "base_uri": "https://localhost:8080/"
        },
        "id": "8NAvIQVH9pjj",
        "outputId": "8ec4ce1f-e934-419a-9abc-d9fb9e3302d2"
      },
      "execution_count": 8,
      "outputs": [
        {
          "output_type": "stream",
          "name": "stdout",
          "text": [
            "ingrese el primer numero:2\n",
            "ingrese el segundo numero:4\n",
            "la suma es: 6\n",
            "la resta es: -2\n",
            "la multiplicacion es: 8\n",
            "la division es: 0.5\n"
          ]
        }
      ]
    },
    {
      "cell_type": "code",
      "source": [
        "nombre=input((\"Ingresa tu nombre: \"))\n",
        "num=len(nombre)\n",
        "print(\"El total de letras de tu nombre son: \"+str(num))"
      ],
      "metadata": {
        "colab": {
          "base_uri": "https://localhost:8080/"
        },
        "id": "iEPGVof--MMR",
        "outputId": "ea737be3-543e-4f5c-b404-0cd1935bb125"
      },
      "execution_count": 10,
      "outputs": [
        {
          "output_type": "stream",
          "name": "stdout",
          "text": [
            "Ingresa tu nombre: Mario\n",
            "El total de letras de tu nombre son: 5\n"
          ]
        }
      ]
    },
    {
      "cell_type": "code",
      "source": [
        "print(\"Dia 1: Lunes\")\n",
        "print(\"Dia 2: Martes\")\n",
        "print(\"Dia 3: Miercoles\")\n",
        "print(\"Dia 4: Jueves\")\n",
        "print(\"Dia 5: Viernes\")\n",
        "print(\"Dia 6: Sabado\")\n",
        "print(\"Dia 7: Domingo\")"
      ],
      "metadata": {
        "colab": {
          "base_uri": "https://localhost:8080/"
        },
        "id": "agESgOd9_TdV",
        "outputId": "8aea6365-51e7-4695-bd06-c8663031873d"
      },
      "execution_count": 11,
      "outputs": [
        {
          "output_type": "stream",
          "name": "stdout",
          "text": [
            "Dia 1: Lunes\n",
            "Dia 2: Martes\n",
            "Dia 3: Miercoles\n",
            "Dia 4: Jueves\n",
            "Dia 5: Viernes\n",
            "Dia 6: Sabado\n",
            "Dia 7: Domingo\n"
          ]
        }
      ]
    }
  ]
}